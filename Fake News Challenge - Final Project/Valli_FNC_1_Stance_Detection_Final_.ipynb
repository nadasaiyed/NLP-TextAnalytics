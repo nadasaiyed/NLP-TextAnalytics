{
 "cells": [
  {
   "cell_type": "code",
   "execution_count": null,
   "metadata": {
    "colab": {},
    "colab_type": "code",
    "id": "aQlNGh3h0SSx"
   },
   "outputs": [],
   "source": [
    "import pandas as pd\n",
    "import numpy as np\n",
    "import os\n",
    "import re\n",
    "from time import time"
   ]
  },
  {
   "cell_type": "code",
   "execution_count": null,
   "metadata": {
    "colab": {},
    "colab_type": "code",
    "id": "z2dB5DchLPOP"
   },
   "outputs": [],
   "source": [
    "import gensim\n",
    "import keras\n",
    "import numpy as np\n",
    "import pandas as pd\n",
    "import pickle\n",
    "import warnings\n",
    "warnings.filterwarnings(\"ignore\")\n",
    "\n",
    "\n",
    "from sklearn.model_selection import train_test_split\n",
    "from keras.models import Sequential\n",
    "from keras.layers import Input, Dense, LSTM, Embedding, Dropout, BatchNormalization, Activation, Bidirectional\n",
    "from keras.preprocessing.text import text_to_word_sequence, Tokenizer\n",
    "from keras.preprocessing.sequence import pad_sequences\n",
    "\n",
    "\n",
    "import matplotlib as mpl\n",
    "%matplotlib inline\n",
    "from matplotlib import pyplot as plt\n",
    "from keras.utils import plot_model \n",
    "from IPython.display import Image\n",
    "from gensim.scripts.glove2word2vec import glove2word2vec\n",
    "from sklearn.preprocessing import LabelEncoder\n",
    "\n",
    "np.random.seed(1003)"
   ]
  },
  {
   "cell_type": "code",
   "execution_count": null,
   "metadata": {
    "colab": {},
    "colab_type": "code",
    "id": "se5a7ybcLlJr"
   },
   "outputs": [],
   "source": [
    "# Specify the folder locations\n",
    "W2V_DIR = 'https://s3.amazonaws.com/dl4j-distribution/GoogleNews-vectors-negative300.bin.gz'\n",
    "DATA_DIR = ''\n",
    "Glove = 'glove.6B.200d.txt'\n",
    "\n",
    "# These are some hyperparameters that can be tuned\n",
    "MAX_SENT_LEN = 170\n",
    "MAX_VOCAB_SIZE = 400000\n",
    "LSTM_DIM = 128\n",
    "EMBEDDING_DIM = 300\n",
    "BATCH_SIZE = 200\n",
    "N_EPOCHS = 10\n"
   ]
  },
  {
   "cell_type": "code",
   "execution_count": null,
   "metadata": {
    "colab": {},
    "colab_type": "code",
    "id": "8xGji_-SLtmf"
   },
   "outputs": [],
   "source": [
    "train_bodies = pd.read_csv(DATA_DIR+'train_bodies.csv')\n",
    "train_stances = pd.read_csv(DATA_DIR+'train_stances.csv')\n",
    "\n",
    "test_bodies = pd.read_csv(DATA_DIR+'test_bodies.csv')\n",
    "test_stances_unlabeled = pd.read_csv(DATA_DIR+'test_stances_unlabeled.csv')\n",
    "\n",
    "train = train_stances.join(train_bodies.set_index('Body ID'), on='Body ID')\n",
    "test = test_stances_unlabeled.join(test_bodies.set_index('Body ID'), on='Body ID')"
   ]
  },
  {
   "cell_type": "code",
   "execution_count": null,
   "metadata": {
    "colab": {},
    "colab_type": "code",
    "id": "nn_T2m8IL2_Z"
   },
   "outputs": [],
   "source": [
    "train['Stance'].replace('unrelated',1,True)\n",
    "train['Stance'].replace('agree',2,True)\n",
    "train['Stance'].replace('disagree',3,True)\n",
    "train['Stance'].replace('discuss',4,True)\n",
    "\n",
    "word_seq_headline_train = [text_to_word_sequence(sent) for sent in train['Headline']]\n",
    "word_seq_bodies_train = [text_to_word_sequence(sent) for sent in train['articleBody']]\n",
    "\n",
    "word_seq_headline_test = [text_to_word_sequence(sent) for sent in test['Headline']]\n",
    "word_seq_bodies_test = [text_to_word_sequence(sent) for sent in test['articleBody']]"
   ]
  },
  {
   "cell_type": "code",
   "execution_count": null,
   "metadata": {
    "colab": {},
    "colab_type": "code",
    "id": "0ceDzZuSMCBm"
   },
   "outputs": [],
   "source": [
    "word_seq = []\n",
    "word_seq.extend(word_seq_headline_train)\n",
    "word_seq.extend(word_seq_bodies_train)\n",
    "word_seq.extend(word_seq_headline_test)\n",
    "word_seq.extend(word_seq_bodies_test)\n"
   ]
  },
  {
   "cell_type": "code",
   "execution_count": null,
   "metadata": {
    "colab": {},
    "colab_type": "code",
    "id": "wyBhKgaqduGu"
   },
   "outputs": [],
   "source": [
    "for i in range (len(word_seq_headline_train)):\n",
    "  word_seq_headline_train[i].extend(word_seq_bodies_train[i])\n",
    "\n",
    "\n",
    "for i in range (len(word_seq_headline_test)):\n",
    "  word_seq_headline_test[i].extend(word_seq_bodies_test[i])"
   ]
  },
  {
   "cell_type": "code",
   "execution_count": null,
   "metadata": {
    "colab": {},
    "colab_type": "code",
    "id": "p3K3nJPThLi0"
   },
   "outputs": [],
   "source": [
    "tokenizer = Tokenizer(num_words=MAX_VOCAB_SIZE)\n",
    "tokenizer.fit_on_texts([' '.join(seq[:MAX_SENT_LEN]) for seq in word_seq])"
   ]
  },
  {
   "cell_type": "code",
   "execution_count": null,
   "metadata": {
    "colab": {},
    "colab_type": "code",
    "id": "PJ_fOGH6bllQ"
   },
   "outputs": [],
   "source": [
    "# Convert the sequence of words to sequnce of indices\n",
    "X_train = tokenizer.texts_to_sequences([' '.join(seq[:MAX_SENT_LEN]) for seq in word_seq_headline_train])\n",
    "X_train = pad_sequences(X_train, maxlen=MAX_SENT_LEN, padding='post', truncating='post')\n",
    "y_train = train['Stance']\n",
    "y_train = y_train.values"
   ]
  },
  {
   "cell_type": "code",
   "execution_count": null,
   "metadata": {
    "colab": {},
    "colab_type": "code",
    "id": "RY-izFtrkhLn"
   },
   "outputs": [],
   "source": [
    "from keras.utils import np_utils\n",
    "\n",
    "encoder_train = LabelEncoder()\n",
    "encoder_train.fit(y_train)\n",
    "encoded_train = encoder_train.transform(y_train)\n",
    "# convert integers to dummy variables (i.e. one hot encoded)\n",
    "dummy_y_train = np_utils.to_categorical(encoded_train)"
   ]
  },
  {
   "cell_type": "code",
   "execution_count": null,
   "metadata": {
    "colab": {},
    "colab_type": "code",
    "id": "u0QuZYpakhsI"
   },
   "outputs": [],
   "source": [
    "X_train, X_val, y_train, y_val = train_test_split(X_train, dummy_y_train, random_state=10, test_size=0.1)\n"
   ]
  },
  {
   "cell_type": "code",
   "execution_count": null,
   "metadata": {
    "colab": {},
    "colab_type": "code",
    "id": "ru_9TSkckh9F"
   },
   "outputs": [],
   "source": [
    "EMBEDDING_DIM = 300\n",
    "W2V_DIR = 'https://s3.amazonaws.com/dl4j-distribution/GoogleNews-vectors-negative300.bin.gz'\n",
    "embeddings = gensim.models.KeyedVectors.load_word2vec_format(W2V_DIR, binary=True)\n",
    "embeddings_matrix = np.random.uniform(-0.05, 0.05, size=(len(tokenizer.word_index)+1, EMBEDDING_DIM)) # +1 is because the matrix indices start with 0\n",
    "\n",
    "for word, i in tokenizer.word_index.items(): # i=0 is the embedding for the zero padding\n",
    "    try:\n",
    "        embeddings_vector = embeddings[word]\n",
    "    except KeyError:\n",
    "        embeddings_vector = None\n",
    "    if embeddings_vector is not None:\n",
    "        embeddings_matrix[i] = embeddings_vector\n",
    "        \n",
    "del embeddings"
   ]
  },
  {
   "cell_type": "code",
   "execution_count": null,
   "metadata": {
    "colab": {
     "base_uri": "https://localhost:8080/",
     "height": 35
    },
    "colab_type": "code",
    "id": "cdIdKGDNva4A",
    "outputId": "05dd885d-a278-4f25-cd06-8fefff758da4"
   },
   "outputs": [
    {
     "data": {
      "text/plain": [
       "(44974, 170)"
      ]
     },
     "execution_count": 17,
     "metadata": {
      "tags": []
     },
     "output_type": "execute_result"
    }
   ],
   "source": [
    "X_train.shape"
   ]
  },
  {
   "cell_type": "code",
   "execution_count": null,
   "metadata": {
    "colab": {
     "base_uri": "https://localhost:8080/",
     "height": 566
    },
    "colab_type": "code",
    "id": "bhSaEXUi7jou",
    "outputId": "5376fbe1-2699-4db5-a8f7-f5fa52e11389"
   },
   "outputs": [
    {
     "name": "stdout",
     "output_type": "stream",
     "text": [
      "Model: \"sequential_4\"\n",
      "_________________________________________________________________\n",
      "Layer (type)                 Output Shape              Param #   \n",
      "=================================================================\n",
      "word_embedding_layer (Embedd (None, None, 300)         6714300   \n",
      "_________________________________________________________________\n",
      "dropout_2 (Dropout)          (None, None, 300)         0         \n",
      "_________________________________________________________________\n",
      "conv1d_4 (Conv1D)            (None, None, 32)          48032     \n",
      "_________________________________________________________________\n",
      "max_pooling1d_4 (MaxPooling1 (None, None, 32)          0         \n",
      "_________________________________________________________________\n",
      "conv1d_5 (Conv1D)            (None, None, 64)          6208      \n",
      "_________________________________________________________________\n",
      "max_pooling1d_5 (MaxPooling1 (None, None, 64)          0         \n",
      "_________________________________________________________________\n",
      "lstm_2 (LSTM)                (None, 100)               66000     \n",
      "_________________________________________________________________\n",
      "batch_normalization_2 (Batch (None, 100)               400       \n",
      "_________________________________________________________________\n",
      "dense_8 (Dense)              (None, 256)               25856     \n",
      "_________________________________________________________________\n",
      "dense_9 (Dense)              (None, 128)               32896     \n",
      "_________________________________________________________________\n",
      "dense_10 (Dense)             (None, 64)                8256      \n",
      "_________________________________________________________________\n",
      "dense_11 (Dense)             (None, 4)                 260       \n",
      "=================================================================\n",
      "Total params: 6,902,208\n",
      "Trainable params: 6,902,008\n",
      "Non-trainable params: 200\n",
      "_________________________________________________________________\n",
      "None\n"
     ]
    }
   ],
   "source": [
    "#convolutional model \n",
    "from keras.layers import Conv1D, MaxPooling1D, Embedding, Dropout\n",
    "\n",
    "model_1 = Sequential()\n",
    "\n",
    "model_1.add(Embedding(input_dim=len(tokenizer.word_index)+1,\n",
    "                          output_dim=EMBEDDING_DIM,\n",
    "                          weights = [embeddings_matrix], trainable=True, name='word_embedding_layer' \n",
    "                          ))\n",
    "\n",
    "model_1.add(Dropout(0.2))\n",
    "model_1.add(Conv1D(filters=32, kernel_size=5, padding='same', activation='relu'))\n",
    "model_1.add(MaxPooling1D(pool_size=2))\n",
    "model_1.add(Conv1D(filters=64, kernel_size=3, padding='same', activation='relu'))\n",
    "model_1.add(MaxPooling1D(pool_size=2))\n",
    "model_1.add(LSTM(100, dropout=0.2, recurrent_dropout=0.2))\n",
    "model_1.add(BatchNormalization())\n",
    "model_1.add(Dense(256, activation='relu'))\n",
    "model_1.add(Dense(128, activation='relu'))\n",
    "model_1.add(Dense(64, activation='relu'))\n",
    "model_1.add(Dense(4, activation='softmax'))\n",
    "\n",
    "model_1.compile(loss='binary_crossentropy', optimizer='adam', metrics=['accuracy'])\n",
    "print(model_1.summary())\n",
    "# history1 = model_1.fit(X_train, y_train, epochs=5,validation_data=(X_val, y_val),batch_size=512,verbose=1)\n",
    "\n"
   ]
  },
  {
   "cell_type": "code",
   "execution_count": null,
   "metadata": {
    "colab": {
     "base_uri": "https://localhost:8080/",
     "height": 1000
    },
    "colab_type": "code",
    "id": "OexElLMy9Pp9",
    "outputId": "565849e0-e085-4ae0-a137-b51463fc4ae3"
   },
   "outputs": [
    {
     "data": {
      "image/png": "[encoded data removed]",
      "text/plain": [
       "<IPython.core.display.Image object>"
      ]
     },
     "execution_count": 27,
     "metadata": {
      "tags": []
     },
     "output_type": "execute_result"
    }
   ],
   "source": [
    "from keras.utils import plot_model\n",
    "plot_model(model_1, to_file='conv.png', show_shapes=True, show_layer_names=True)"
   ]
  },
  {
   "cell_type": "code",
   "execution_count": null,
   "metadata": {
    "colab": {
     "base_uri": "https://localhost:8080/",
     "height": 203
    },
    "colab_type": "code",
    "id": "wFSsMsQy9J72",
    "outputId": "88189cbf-1c46-485f-9734-97db973ebe2b"
   },
   "outputs": [
    {
     "name": "stdout",
     "output_type": "stream",
     "text": [
      "Epoch 1/5\n",
      "88/88 [==============================] - 166s 2s/step - loss: 0.2601 - accuracy: 0.7854 - val_loss: 0.2694 - val_accuracy: 0.7717\n",
      "Epoch 2/5\n",
      "88/88 [==============================] - 164s 2s/step - loss: 0.2405 - accuracy: 0.8020 - val_loss: 0.2546 - val_accuracy: 0.7861\n",
      "Epoch 3/5\n",
      "88/88 [==============================] - 165s 2s/step - loss: 0.2278 - accuracy: 0.8163 - val_loss: 0.2525 - val_accuracy: 0.7993\n",
      "Epoch 4/5\n",
      "88/88 [==============================] - 165s 2s/step - loss: 0.2172 - accuracy: 0.8254 - val_loss: 0.2712 - val_accuracy: 0.7791\n",
      "Epoch 5/5\n",
      "88/88 [==============================] - 165s 2s/step - loss: 0.2081 - accuracy: 0.8341 - val_loss: 0.2620 - val_accuracy: 0.7865\n"
     ]
    }
   ],
   "source": [
    "history = model_1.fit(X_train, y_train, epochs=5,validation_data=(X_val, y_val),batch_size=512,verbose=1)"
   ]
  },
  {
   "cell_type": "code",
   "execution_count": null,
   "metadata": {
    "colab": {},
    "colab_type": "code",
    "id": "fKPUneALBz1q"
   },
   "outputs": [],
   "source": [
    "from keras.models import load_model\n",
    "\n",
    "model_1.save('conv1D_model.h5')"
   ]
  },
  {
   "cell_type": "markdown",
   "metadata": {
    "colab_type": "text",
    "id": "drlhoJ0MNVDd"
   },
   "source": []
  },
  {
   "cell_type": "code",
   "execution_count": null,
   "metadata": {
    "colab": {},
    "colab_type": "code",
    "id": "K-besxO8axML"
   },
   "outputs": [],
   "source": [
    "#model Bidirectional with GRU \n",
    "from keras.layers import Input, Dense, LSTM, Embedding, Dropout, BatchNormalization, Activation, Bidirectional, GRU\n",
    "# Build a sequential model by stacking neural net units - model 1 \n",
    "model_2 = Sequential()\n",
    "model_2.add(Embedding(input_dim=len(tokenizer.word_index)+1,\n",
    "                          output_dim=EMBEDDING_DIM,\n",
    "                          weights = [embeddings_matrix], trainable=True, name='word_embedding_layer' \n",
    "                          ))\n",
    "model_2.add(Bidirectional(GRU(75),name='GRU layer'))\n",
    "\n",
    "model_2.add(Dropout(0.8))\n",
    "model_2.add(Dense(4, activation='sigmoid'))\n"
   ]
  },
  {
   "cell_type": "code",
   "execution_count": null,
   "metadata": {
    "colab": {},
    "colab_type": "code",
    "id": "Jr6P6IQoimqs"
   },
   "outputs": [],
   "source": [
    "print (model_2.summary())"
   ]
  },
  {
   "cell_type": "code",
   "execution_count": null,
   "metadata": {
    "colab": {},
    "colab_type": "code",
    "id": "E4NwTBwZipsw"
   },
   "outputs": [],
   "source": [
    "model_2.compile(loss='categorical_crossentropy',\n",
    "              optimizer='adam',\n",
    "              metrics=['accuracy'])"
   ]
  },
  {
   "cell_type": "code",
   "execution_count": null,
   "metadata": {
    "colab": {
     "base_uri": "https://localhost:8080/",
     "height": 197
    },
    "colab_type": "code",
    "id": "XvA3-ylwebBp",
    "outputId": "de38a5b0-597c-4750-fae0-cfa453afbb27"
   },
   "outputs": [
    {
     "name": "stdout",
     "output_type": "stream",
     "text": [
      "Epoch 1/5\n",
      "1406/1406 [==============================] - 622s 442ms/step - loss: 0.5952 - accuracy: 0.7791 - val_loss: 0.4467 - val_accuracy: 0.8311\n",
      "Epoch 2/5\n",
      "1406/1406 [==============================] - 604s 430ms/step - loss: 0.3459 - accuracy: 0.8607 - val_loss: 0.3145 - val_accuracy: 0.8705\n",
      "Epoch 3/5\n",
      "1406/1406 [==============================] - 608s 432ms/step - loss: 0.2089 - accuracy: 0.9136 - val_loss: 0.2541 - val_accuracy: 0.9020\n",
      "Epoch 4/5\n",
      "1406/1406 [==============================] - 570s 405ms/step - loss: 0.1297 - accuracy: 0.9490 - val_loss: 0.2091 - val_accuracy: 0.9262\n",
      "Epoch 5/5\n",
      "1406/1406 [==============================] - 600s 427ms/step - loss: 0.0885 - accuracy: 0.9665 - val_loss: 0.1911 - val_accuracy: 0.9346\n"
     ]
    }
   ],
   "source": [
    "history = model_2.fit(X_train, y_train, epochs=5,validation_data=(X_val, y_val),batch_size=32,verbose=1)"
   ]
  },
  {
   "cell_type": "code",
   "execution_count": null,
   "metadata": {
    "colab": {
     "base_uri": "https://localhost:8080/",
     "height": 533
    },
    "colab_type": "code",
    "id": "tMUFuoTomBT_",
    "outputId": "545f3a0c-09d4-4438-f5f4-84be9d0e5ce0"
   },
   "outputs": [
    {
     "data": {
      "image/png": "[encoded data removed]",
      "text/plain": [
       "<IPython.core.display.Image object>"
      ]
     },
     "execution_count": 21,
     "metadata": {
      "tags": []
     },
     "output_type": "execute_result"
    }
   ],
   "source": [
    "from keras.utils import plot_model\n",
    "plot_model(model_2, to_file='model2_plot.png', show_shapes=True, show_layer_names=True)"
   ]
  },
  {
   "cell_type": "code",
   "execution_count": null,
   "metadata": {
    "colab": {},
    "colab_type": "code",
    "id": "9TRjn-8th4Vq"
   },
   "outputs": [],
   "source": [
    "from keras.models import load_model\n",
    "\n",
    "model_2.save('/content/drive/My Drive/University of Waterloo/Spring 2020 /MSCI 641/Project /new_gru_scorer_final_model.h5')"
   ]
  },
  {
   "cell_type": "code",
   "execution_count": null,
   "metadata": {
    "colab": {},
    "colab_type": "code",
    "id": "Fv6aNI8QCRdr"
   },
   "outputs": [],
   "source": [
    "#Feed Forward Neural network \n",
    "model_3 = Sequential()\n",
    "model_3.add(Dense(16, input_dim=170, activation=\"relu\"))\n",
    "model_3.add(Dense(12, activation=\"relu\"))\n",
    "model_3.add(Dense(4, activation=\"softmax\"))"
   ]
  },
  {
   "cell_type": "code",
   "execution_count": null,
   "metadata": {
    "colab": {},
    "colab_type": "code",
    "id": "A9Adaf9Y9dhI"
   },
   "outputs": [],
   "source": [
    "model_3.compile(loss='categorical_crossentropy',\n",
    "              optimizer='adam',\n",
    "              metrics=['accuracy'])"
   ]
  },
  {
   "cell_type": "code",
   "execution_count": null,
   "metadata": {
    "colab": {
     "base_uri": "https://localhost:8080/",
     "height": 203
    },
    "colab_type": "code",
    "id": "0kBE0LYR9kgm",
    "outputId": "eb4db4c1-9359-4e3d-8626-5ab0f3df9333"
   },
   "outputs": [
    {
     "name": "stdout",
     "output_type": "stream",
     "text": [
      "Epoch 1/5\n",
      "88/88 [==============================] - 0s 4ms/step - loss: 312.0505 - accuracy: 0.6069 - val_loss: 11.3975 - val_accuracy: 0.7145\n",
      "Epoch 2/5\n",
      "88/88 [==============================] - 0s 2ms/step - loss: 5.9838 - accuracy: 0.7225 - val_loss: 3.3597 - val_accuracy: 0.7235\n",
      "Epoch 3/5\n",
      "88/88 [==============================] - 0s 2ms/step - loss: 2.7886 - accuracy: 0.7282 - val_loss: 2.2142 - val_accuracy: 0.7261\n",
      "Epoch 4/5\n",
      "88/88 [==============================] - 0s 2ms/step - loss: 1.9491 - accuracy: 0.7296 - val_loss: 1.6623 - val_accuracy: 0.7277\n",
      "Epoch 5/5\n",
      "88/88 [==============================] - 0s 2ms/step - loss: 1.5254 - accuracy: 0.7306 - val_loss: 1.4062 - val_accuracy: 0.7281\n"
     ]
    }
   ],
   "source": [
    "history = model_3.fit(X_train, y_train, epochs=5,validation_data=(X_val, y_val),batch_size=512,verbose=1)\n"
   ]
  },
  {
   "cell_type": "code",
   "execution_count": null,
   "metadata": {
    "colab": {},
    "colab_type": "code",
    "id": "erT6YfrHDF5W"
   },
   "outputs": [],
   "source": [
    "model_3.save('/content/drive/My Drive/University of Waterloo/Spring 2020 /MSCI 641/Project /mlp_model.h5')"
   ]
  },
  {
   "cell_type": "code",
   "execution_count": null,
   "metadata": {
    "colab": {},
    "colab_type": "code",
    "id": "z1mI5Pn9dsoc"
   },
   "outputs": [],
   "source": [
    "competetion_bodies = pd.read_csv('/content/drive/My Drive/University of Waterloo/Spring 2020 /MSCI 641/Project /competition_test_bodies.csv')\n",
    "competetion_stances = pd.read_csv('/content/drive/My Drive/University of Waterloo/Spring 2020 /MSCI 641/Project /competition_test_stances.csv')\n",
    "\n",
    "competetion_unlabeled = pd.read_csv('/content/drive/My Drive/University of Waterloo/Spring 2020 /MSCI 641/Project /competition_test_stances_unlabeled.csv')\n",
    "\n",
    "comp = competetion_stances.join(competetion_bodies.set_index('Body ID'), on='Body ID')\n"
   ]
  },
  {
   "cell_type": "code",
   "execution_count": null,
   "metadata": {
    "colab": {},
    "colab_type": "code",
    "id": "v6Ba332Pyhx5"
   },
   "outputs": [],
   "source": []
  },
  {
   "cell_type": "code",
   "execution_count": null,
   "metadata": {
    "colab": {},
    "colab_type": "code",
    "id": "3bzM9A34d0KH"
   },
   "outputs": [],
   "source": [
    "comp.replace('unrelated',1,True)\n",
    "comp.replace('agree',2,True)\n",
    "comp.replace('disagree',3,True)\n",
    "comp.replace('discuss',4,True)"
   ]
  },
  {
   "cell_type": "code",
   "execution_count": null,
   "metadata": {
    "colab": {},
    "colab_type": "code",
    "id": "IVMFee9Td0uE"
   },
   "outputs": [],
   "source": [
    "word_seq_headline_comp = [text_to_word_sequence(sent) for sent in comp['Headline']]\n",
    "word_seq_bodies_comp = [text_to_word_sequence(sent) for sent in comp['articleBody']]\n"
   ]
  },
  {
   "cell_type": "code",
   "execution_count": null,
   "metadata": {
    "colab": {},
    "colab_type": "code",
    "id": "hCCvdrvDd3fk"
   },
   "outputs": [],
   "source": [
    "for i in range (len(word_seq_headline_comp)):\n",
    "  word_seq_headline_comp[i].extend(word_seq_bodies_comp[i])"
   ]
  },
  {
   "cell_type": "code",
   "execution_count": null,
   "metadata": {
    "colab": {},
    "colab_type": "code",
    "id": "kTNZ46z1d50Q"
   },
   "outputs": [],
   "source": [
    "tokenizer = Tokenizer(num_words=MAX_VOCAB_SIZE)\n",
    "tokenizer.fit_on_texts([' '.join(seq[:MAX_SENT_LEN]) for seq in word_seq_headline_comp])\n"
   ]
  },
  {
   "cell_type": "code",
   "execution_count": null,
   "metadata": {
    "colab": {},
    "colab_type": "code",
    "id": "pq-yASJGd7zV"
   },
   "outputs": [],
   "source": [
    "\n",
    "X_comp = tokenizer.texts_to_sequences([' '.join(seq[:MAX_SENT_LEN]) for seq in word_seq_headline_comp])\n",
    "X_comp = pad_sequences(X_comp, maxlen=MAX_SENT_LEN, padding='post', truncating='post')\n",
    "y_comp = comp['Stance']\n",
    "y_comp = y_comp.values\n",
    "\n"
   ]
  },
  {
   "cell_type": "code",
   "execution_count": null,
   "metadata": {
    "colab": {},
    "colab_type": "code",
    "id": "MXxpxylYd-57"
   },
   "outputs": [],
   "source": [
    "encoder_comp = LabelEncoder()\n",
    "encoder_comp.fit(y_comp)\n",
    "encoded_comp = encoder_comp.transform(y_comp)\n",
    "dummy_y_comp = np_utils.to_categorical(encoded_comp)"
   ]
  },
  {
   "cell_type": "code",
   "execution_count": null,
   "metadata": {
    "colab": {
     "base_uri": "https://localhost:8080/",
     "height": 33
    },
    "colab_type": "code",
    "id": "FZTuokCEBnn1",
    "outputId": "74722f9f-cbc9-482e-afe5-c986f7b20245"
   },
   "outputs": [
    {
     "name": "stdout",
     "output_type": "stream",
     "text": [
      "795/795 [==============================] - 23s 28ms/step - loss: 0.6497 - accuracy: 0.4460\n"
     ]
    }
   ],
   "source": [
    "y_conv = model_1.predict(X_comp)\n",
    "score,test_acc_conv_model = model_1.evaluate(X_comp, dummy_y_comp)"
   ]
  },
  {
   "cell_type": "code",
   "execution_count": null,
   "metadata": {
    "colab": {
     "base_uri": "https://localhost:8080/",
     "height": 33
    },
    "colab_type": "code",
    "id": "mTsxsPmqeApp",
    "outputId": "58764676-79b6-436e-9dba-a0a8258f43e8"
   },
   "outputs": [
    {
     "name": "stdout",
     "output_type": "stream",
     "text": [
      "795/795 [==============================] - 57s 71ms/step - loss: 1.2102 - accuracy: 0.6935\n"
     ]
    }
   ],
   "source": [
    "y_ = model_2.predict(X_comp)\n",
    "score,test_acc = model_2.evaluate(X_comp, dummy_y_comp)\n"
   ]
  },
  {
   "cell_type": "code",
   "execution_count": null,
   "metadata": {
    "colab": {
     "base_uri": "https://localhost:8080/",
     "height": 33
    },
    "colab_type": "code",
    "id": "ADNQ6hAHDRlE",
    "outputId": "120714a5-0290-414b-90c1-96437db135f2"
   },
   "outputs": [
    {
     "name": "stdout",
     "output_type": "stream",
     "text": [
      "795/795 [==============================] - 1s 941us/step - loss: 1.4070 - accuracy: 0.7200\n"
     ]
    }
   ],
   "source": [
    "y_mlp= model_3.predict(X_comp)\n",
    "score,test_acc_conv_model = model_3.evaluate(X_comp, dummy_y_comp)"
   ]
  },
  {
   "cell_type": "code",
   "execution_count": null,
   "metadata": {
    "colab": {
     "base_uri": "https://localhost:8080/",
     "height": 33
    },
    "colab_type": "code",
    "id": "q2Qxaf9v_GUq",
    "outputId": "2dc6e3cf-1a09-4494-fae4-83177cf2adb3"
   },
   "outputs": [
    {
     "data": {
      "text/plain": [
       "0.6935033202171326"
      ]
     },
     "execution_count": 32,
     "metadata": {
      "tags": []
     },
     "output_type": "execute_result"
    }
   ],
   "source": [
    "test_acc"
   ]
  },
  {
   "cell_type": "code",
   "execution_count": 1,
   "metadata": {
    "colab": {
     "base_uri": "https://localhost:8080/",
     "height": 363
    },
    "colab_type": "code",
    "id": "V8UWlwlF0B0u",
    "outputId": "bd9b7127-69ad-468f-d5ec-b8fa41662d11"
   },
   "outputs": [],
   "source": [
    "y_predict = model_2.predict(x=X_comp)\n",
    "outputs = [np.argmax(p) for p in y_predict]\n",
    "for i in range(len(outputs)):\n",
    "  if outputs[i] == 0: outputs[i] = \"agree\"\n",
    "  if outputs[i] == 1: outputs[i] = \"disagree\"\n",
    "  if outputs[i] == 2: outputs[i] = \"discuss\"\n",
    "  if outputs[i] == 3: outputs[i] = \"unrelated\"\n",
    "print(\"Scores on the test set\")\n",
    "from utils.score import report_score\n",
    "report_score(comp.Stance.values,outputs)\n"
   ]
  },
  {
   "cell_type": "code",
   "execution_count": null,
   "metadata": {
    "colab": {},
    "colab_type": "code",
    "id": "qzfi6tXk0F7Z"
   },
   "outputs": [],
   "source": []
  },
  {
   "cell_type": "code",
   "execution_count": null,
   "metadata": {
    "colab": {
     "base_uri": "https://localhost:8080/",
     "height": 35
    },
    "colab_type": "code",
    "id": "5L2E1wwTkhrF",
    "outputId": "8fb081a9-6904-4456-8d80-721ac8451cea"
   },
   "outputs": [
    {
     "data": {
      "text/plain": [
       "0.7220320105552673"
      ]
     },
     "execution_count": 53,
     "metadata": {
      "tags": []
     },
     "output_type": "execute_result"
    }
   ],
   "source": [
    "test_accuracy "
   ]
  },
  {
   "cell_type": "markdown",
   "metadata": {
    "colab_type": "text",
    "id": "FJDxDoDshX3c"
   },
   "source": []
  }
 ],
 "metadata": {
  "colab": {
   "collapsed_sections": [],
   "name": " Valli FNC-1 Stance Detection Final  .ipynb",
   "provenance": []
  },
  "kernelspec": {
   "display_name": "Python 3",
   "language": "python",
   "name": "python3"
  },
  "language_info": {
   "codemirror_mode": {
    "name": "ipython",
    "version": 3
   },
   "file_extension": ".py",
   "mimetype": "text/x-python",
   "name": "python",
   "nbconvert_exporter": "python",
   "pygments_lexer": "ipython3",
   "version": "3.7.4"
  }
 },
 "nbformat": 4,
 "nbformat_minor": 1
}
