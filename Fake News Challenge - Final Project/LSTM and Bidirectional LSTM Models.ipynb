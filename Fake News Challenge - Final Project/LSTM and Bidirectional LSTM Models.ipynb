{
 "cells": [
  {
   "cell_type": "code",
   "execution_count": 62,
   "metadata": {},
   "outputs": [],
   "source": [
    "from keras.preprocessing.text import one_hot\n",
    "from keras.preprocessing.sequence import pad_sequences\n",
    "from keras.models import Sequential\n",
    "from keras.layers.core import Activation, Dropout, Dense\n",
    "from keras.layers import Flatten, LSTM,Bidirectional\n",
    "from keras.models import Model\n",
    "from keras.layers.embeddings import Embedding\n",
    "from sklearn import preprocessing\n",
    "from sklearn.model_selection import train_test_split\n",
    "from keras.preprocessing.text import Tokenizer\n",
    "from keras.layers import Input\n",
    "from keras import optimizers\n",
    "from keras.utils import plot_model,to_categorical\n",
    "from keras.regularizers import l2\n",
    "\n",
    "import pandas as pd\n",
    "import numpy as np\n",
    "import re\n",
    "\n",
    "import score\n",
    "from score import report_score"
   ]
  },
  {
   "cell_type": "code",
   "execution_count": 13,
   "metadata": {},
   "outputs": [],
   "source": [
    "#Hyperparameters that were tuned after experiments\n",
    "DATA_DIR = 'data/'\n",
    "MAX_SEN_LEN = 150\n",
    "MAX_VOCAB_SIZE = 30000\n",
    "LSTM_DIM = 128\n",
    "EMBEDDING_DIM = 200\n",
    "BATCH_SIZE = 100\n",
    "N_EPOCHS = 10\n",
    "# REG_VALUE=0.001    "
   ]
  },
  {
   "cell_type": "code",
   "execution_count": 14,
   "metadata": {},
   "outputs": [],
   "source": [
    "#Loading the dataset\n",
    "train_bodies = pd.read_csv(DATA_DIR+'train_bodies.csv')\n",
    "train_stances = pd.read_csv(DATA_DIR+'train_stances.csv')\n",
    "\n",
    "test_bodies = pd.read_csv(DATA_DIR+'test_bodies.csv')\n",
    "test_stances_unlabeled = pd.read_csv(DATA_DIR+'test_stances_unlabeled.csv')\n",
    "\n",
    "train = train_stances.join(train_bodies.set_index('Body ID'), on='Body ID')\n",
    "test = test_stances_unlabeled.join(test_bodies.set_index('Body ID'), on='Body ID')"
   ]
  },
  {
   "cell_type": "code",
   "execution_count": 15,
   "metadata": {},
   "outputs": [],
   "source": [
    "#Pre-processing the dataset\n",
    "def process_text(sen):    \n",
    "    # Remove punctuations\n",
    "    sentence = re.sub('[^a-zA-Z0-9]', ' ', sen)\n",
    "    # Single character removal\n",
    "    sentence = re.sub(r\"\\s+[a-zA-Z]\\s+\", ' ', sentence)\n",
    "    # Removing multiple spaces\n",
    "    sentence = re.sub(r'\\s+', ' ', sentence)\n",
    "    return sentence"
   ]
  },
  {
   "cell_type": "code",
   "execution_count": 16,
   "metadata": {},
   "outputs": [],
   "source": [
    "train['processed_headline']=train['Headline'].apply(process_text)\n",
    "train['processed_body'] = train['articleBody'].apply(process_text)\n",
    "test['processed_headline']=test['Headline'].apply(process_text)\n",
    "test['processed_body'] = test['articleBody'].apply(process_text)"
   ]
  },
  {
   "cell_type": "code",
   "execution_count": 18,
   "metadata": {},
   "outputs": [
    {
     "data": {
      "text/plain": [
       "150770"
      ]
     },
     "execution_count": 18,
     "metadata": {},
     "output_type": "execute_result"
    }
   ],
   "source": [
    "all_text = []\n",
    "all_text.extend(list(train.processed_headline))\n",
    "all_text.extend(list(train.processed_body))\n",
    "all_text.extend(list(test.processed_headline))\n",
    "all_text.extend(list(test.processed_body))\n",
    "len(all_text)"
   ]
  },
  {
   "cell_type": "code",
   "execution_count": 19,
   "metadata": {},
   "outputs": [],
   "source": [
    "tokenizer = Tokenizer(MAX_VOCAB_SIZE)\n",
    "tokenizer.fit_on_texts(all_text)"
   ]
  },
  {
   "cell_type": "code",
   "execution_count": 21,
   "metadata": {},
   "outputs": [],
   "source": [
    "train['head_body'] = train.processed_headline + train.processed_body\n",
    "X_train = tokenizer.texts_to_sequences(train.head_body.values)\n",
    "X_train = pad_sequences(X_train,padding='post',truncating='post',maxlen=MAX_SEN_LEN)\n",
    "\n",
    "test['head_body'] = test.processed_headline + test.processed_body\n",
    "X_test = tokenizer.texts_to_sequences(test.head_body.values)\n",
    "X_test = pad_sequences(X_test,padding='post',truncating='post',maxlen=MAX_SEN_LEN)"
   ]
  },
  {
   "cell_type": "code",
   "execution_count": 25,
   "metadata": {},
   "outputs": [],
   "source": [
    "competetion_bodies = pd.read_csv(DATA_DIR+'competition_test_bodies.csv')\n",
    "competetion_stances = pd.read_csv(DATA_DIR+'competition_test_stances.csv')\n",
    "\n",
    "# competetion_unlabeled = pd.read_csv(DATA_DIR+'competition_test_stances_unlabeled.csv')\n",
    "\n",
    "comp = competetion_stances.join(competetion_bodies.set_index('Body ID'), on='Body ID')"
   ]
  },
  {
   "cell_type": "code",
   "execution_count": 22,
   "metadata": {
    "scrolled": true
   },
   "outputs": [
    {
     "data": {
      "text/plain": [
       "array([[0., 0., 0., 1.],\n",
       "       [1., 0., 0., 0.],\n",
       "       [0., 0., 0., 1.],\n",
       "       ...,\n",
       "       [1., 0., 0., 0.],\n",
       "       [0., 0., 1., 0.],\n",
       "       [0., 0., 0., 1.]], dtype=float32)"
      ]
     },
     "execution_count": 22,
     "metadata": {},
     "output_type": "execute_result"
    }
   ],
   "source": [
    "# label_encoder object knows how to understand word labels.\n",
    "label_encoder = preprocessing.LabelEncoder()\n",
    "# Encode labels in column 'species'.\n",
    "y_train = label_encoder.fit_transform(train.Stance.values)\n",
    "y_train = to_categorical(y_train)\n",
    "y_train"
   ]
  },
  {
   "cell_type": "code",
   "execution_count": 26,
   "metadata": {},
   "outputs": [
    {
     "data": {
      "text/plain": [
       "array([[0., 0., 0., 1.],\n",
       "       [0., 0., 0., 1.],\n",
       "       [0., 0., 0., 1.],\n",
       "       ...,\n",
       "       [0., 1., 0., 0.],\n",
       "       [0., 1., 0., 0.],\n",
       "       [1., 0., 0., 0.]], dtype=float32)"
      ]
     },
     "execution_count": 26,
     "metadata": {},
     "output_type": "execute_result"
    }
   ],
   "source": [
    "y_actual = label_encoder.fit_transform(comp.Stance.values)\n",
    "y_actual = to_categorical(y_actual)\n",
    "y_actual"
   ]
  },
  {
   "cell_type": "code",
   "execution_count": 27,
   "metadata": {},
   "outputs": [],
   "source": [
    "x_train,x_val,Y_train,Y_val = train_test_split(X_train,y_train,random_state=10, test_size=0.2)"
   ]
  },
  {
   "cell_type": "code",
   "execution_count": 28,
   "metadata": {},
   "outputs": [],
   "source": [
    "# Creating word embedding matrix\n",
    "\n",
    "import gensim\n",
    "from gensim.scripts.glove2word2vec import glove2word2vec\n",
    "from gensim.models import KeyedVectors\n",
    "\n",
    "#GloVes Load\n",
    "\n",
    "Glove = 'glove.6B.200d.txt'\n",
    "\n",
    "glove2word2vec(glove_input_file=Glove, word2vec_output_file=\"gensim_glove_vectors.txt\")\n",
    "embeddings = gensim.models.KeyedVectors.load_word2vec_format(\"gensim_glove_vectors.txt\", binary=False)\n",
    "\n",
    "embeddings_matrix = np.random.uniform(-0.05, 0.05, size=(len(tokenizer.word_index)+1, EMBEDDING_DIM)) # +1 is because the matrix indices start with 0\n",
    "\n",
    "for word, i in tokenizer.word_index.items(): # i=0 is the embedding for the zero padding\n",
    "    try:\n",
    "        embeddings_vector = embeddings[word]\n",
    "    except KeyError:\n",
    "        embeddings_vector = None\n",
    "    if embeddings_vector is not None:\n",
    "        embeddings_matrix[i] = embeddings_vector\n",
    "        \n",
    "del embeddings\n"
   ]
  },
  {
   "cell_type": "code",
   "execution_count": 31,
   "metadata": {},
   "outputs": [],
   "source": [
    "optimizer = optimizers.Adam(lr=0.001)"
   ]
  },
  {
   "cell_type": "code",
   "execution_count": 34,
   "metadata": {
    "scrolled": true
   },
   "outputs": [
    {
     "name": "stdout",
     "output_type": "stream",
     "text": [
      "Model: \"sequential_3\"\n",
      "_________________________________________________________________\n",
      "Layer (type)                 Output Shape              Param #   \n",
      "=================================================================\n",
      "word_embedding_layer (Embedd (None, None, 200)         5861600   \n",
      "_________________________________________________________________\n",
      "lstm_layer (LSTM)            (None, 128)               168448    \n",
      "_________________________________________________________________\n",
      "dropout_1 (Dropout)          (None, 128)               0         \n",
      "_________________________________________________________________\n",
      "output_layer (Dense)         (None, 4)                 516       \n",
      "=================================================================\n",
      "Total params: 6,030,564\n",
      "Trainable params: 6,030,564\n",
      "Non-trainable params: 0\n",
      "_________________________________________________________________\n",
      "None\n"
     ]
    }
   ],
   "source": [
    "# Build a sequential model by stacking neural net units \n",
    "model_lstm = Sequential()\n",
    "model_lstm.add(Embedding(input_dim=len(tokenizer.word_index)+1,\n",
    "                        output_dim=EMBEDDING_DIM,\n",
    "                        weights = [embeddings_matrix], trainable=True, name='word_embedding_layer' \n",
    "                        ))\n",
    "model_lstm.add(LSTM(LSTM_DIM, return_sequences=False, name='lstm_layer'))\n",
    "model_lstm.add(Dropout(rate=0.8, name='dropout_1')) # Can try varying dropout rates, in paper suggest 0.8\n",
    "model_lstm.add(Dense(4, activation='softmax', name='output_layer'))\n",
    "\n",
    "model_lstm.compile(loss='categorical_crossentropy',\n",
    "              optimizer=optimizer,\n",
    "              metrics=['accuracy'])\n",
    "print(model_lstm.summary())"
   ]
  },
  {
   "cell_type": "code",
   "execution_count": 35,
   "metadata": {},
   "outputs": [
    {
     "name": "stdout",
     "output_type": "stream",
     "text": [
      "\n",
      " Fitting the model\n",
      "Epoch 1/10\n",
      "400/400 [==============================] - 193s 483ms/step - loss: 0.7988 - accuracy: 0.7305 - val_loss: 0.6846 - val_accuracy: 0.7621\n",
      "Epoch 2/10\n",
      "400/400 [==============================] - 197s 492ms/step - loss: 0.6419 - accuracy: 0.7772 - val_loss: 0.5894 - val_accuracy: 0.7903\n",
      "Epoch 3/10\n",
      "400/400 [==============================] - 194s 484ms/step - loss: 0.5706 - accuracy: 0.7975 - val_loss: 0.5561 - val_accuracy: 0.7982\n",
      "Epoch 4/10\n",
      "400/400 [==============================] - 192s 481ms/step - loss: 0.5343 - accuracy: 0.8036 - val_loss: 0.5508 - val_accuracy: 0.8001\n",
      "Epoch 5/10\n",
      "400/400 [==============================] - 186s 466ms/step - loss: 0.5169 - accuracy: 0.8084 - val_loss: 0.5510 - val_accuracy: 0.7965\n",
      "Epoch 6/10\n",
      "400/400 [==============================] - 188s 470ms/step - loss: 0.4933 - accuracy: 0.8124 - val_loss: 0.5430 - val_accuracy: 0.7987\n",
      "Epoch 7/10\n",
      "400/400 [==============================] - 189s 471ms/step - loss: 0.4743 - accuracy: 0.8182 - val_loss: 0.5543 - val_accuracy: 0.7945\n",
      "Epoch 8/10\n",
      "400/400 [==============================] - 200s 501ms/step - loss: 0.4604 - accuracy: 0.8210 - val_loss: 0.5477 - val_accuracy: 0.8064\n",
      "Epoch 9/10\n",
      "400/400 [==============================] - 186s 465ms/step - loss: 0.4319 - accuracy: 0.8328 - val_loss: 0.5254 - val_accuracy: 0.8123\n",
      "Epoch 10/10\n",
      "400/400 [==============================] - 187s 468ms/step - loss: 0.3997 - accuracy: 0.8450 - val_loss: 0.5269 - val_accuracy: 0.8233\n"
     ]
    }
   ],
   "source": [
    "print(\"\\n Fitting the model\")\n",
    "\n",
    "history = model_lstm.fit(x=x_train,y=Y_train,batch_size=BATCH_SIZE,epochs=N_EPOCHS,verbose=1,validation_data=(x_val,Y_val))\n"
   ]
  },
  {
   "cell_type": "code",
   "execution_count": 46,
   "metadata": {},
   "outputs": [
    {
     "data": {
      "image/png": "[encoded data removed]",
      "text/plain": [
       "<Figure size 432x288 with 1 Axes>"
      ]
     },
     "metadata": {
      "needs_background": "light"
     },
     "output_type": "display_data"
    },
    {
     "data": {
      "image/png": "[encoded data removed]",
      "text/plain": [
       "<Figure size 432x288 with 1 Axes>"
      ]
     },
     "metadata": {
      "needs_background": "light"
     },
     "output_type": "display_data"
    }
   ],
   "source": [
    "import matplotlib.pyplot as plt\n",
    "\n",
    "plt.plot(history.history['accuracy'])\n",
    "plt.plot(history.history['val_accuracy'])\n",
    "\n",
    "plt.title('model accuracy')\n",
    "plt.ylabel('accuracy')\n",
    "plt.xlabel('epoch')\n",
    "plt.legend(['train','val'], loc='upper left')\n",
    "plt.show()\n",
    "\n",
    "plt.plot(history.history['loss'])\n",
    "plt.plot(history.history['val_loss'])\n",
    "\n",
    "plt.title('model loss')\n",
    "plt.ylabel('loss')\n",
    "plt.xlabel('epoch')\n",
    "plt.legend(['train','val'], loc='upper left')\n",
    "plt.show()"
   ]
  },
  {
   "cell_type": "code",
   "execution_count": 42,
   "metadata": {},
   "outputs": [
    {
     "name": "stdout",
     "output_type": "stream",
     "text": [
      "Weighted scores on the test set\n",
      "-------------------------------------------------------------\n",
      "|           |   agree   | disagree  |  discuss  | unrelated |\n",
      "-------------------------------------------------------------\n",
      "|   agree   |    150    |     3     |    277    |   1473    |\n",
      "-------------------------------------------------------------\n",
      "| disagree  |    44     |     2     |    88     |    563    |\n",
      "-------------------------------------------------------------\n",
      "|  discuss  |    153    |     6     |   1043    |   3262    |\n",
      "-------------------------------------------------------------\n",
      "| unrelated |   1170    |     3     |   3586    |   13590   |\n",
      "-------------------------------------------------------------\n",
      "Score: 4735.25 out of 11651.25\t(40.641562064156204%)\n"
     ]
    }
   ],
   "source": [
    "score = model_lstm.evaluate(x=X_test, y=y_actual, verbose=1)\n",
    "y_predict = model_lstm.predict(x=X_test)\n",
    "outputs = [np.argmax(p) for p in y_predict]\n",
    "for i in range(len(outputs)):\n",
    "    if outputs[i] == 0: outputs[i] = \"agree\"\n",
    "    if outputs[i] == 1: outputs[i] = \"disagree\"\n",
    "    if outputs[i] == 2: outputs[i] = \"discuss\"\n",
    "    if outputs[i] == 3: outputs[i] = \"unrelated\"\n",
    "print(\"Weighted scores on the test set\")\n",
    "report_score(comp.Stance.values,outputs)"
   ]
  },
  {
   "cell_type": "code",
   "execution_count": 47,
   "metadata": {},
   "outputs": [
    {
     "name": "stdout",
     "output_type": "stream",
     "text": [
      "Model: \"sequential_6\"\n",
      "_________________________________________________________________\n",
      "Layer (type)                 Output Shape              Param #   \n",
      "=================================================================\n",
      "word_embedding_layer (Embedd (None, None, 200)         5861600   \n",
      "_________________________________________________________________\n",
      "bidirectional_1 (Bidirection (None, 256)               336896    \n",
      "_________________________________________________________________\n",
      "dropout_1 (Dropout)          (None, 256)               0         \n",
      "_________________________________________________________________\n",
      "output_layer (Dense)         (None, 4)                 1028      \n",
      "=================================================================\n",
      "Total params: 6,199,524\n",
      "Trainable params: 6,199,524\n",
      "Non-trainable params: 0\n",
      "_________________________________________________________________\n",
      "None\n"
     ]
    }
   ],
   "source": [
    "# Build a sequential model by stacking neural net units \n",
    "model_BiLstm = Sequential()\n",
    "model_BiLstm.add(Embedding(input_dim=len(tokenizer.word_index)+1,\n",
    "                          output_dim=EMBEDDING_DIM,\n",
    "                          weights = [embeddings_matrix], trainable=True, name='word_embedding_layer' \n",
    "                          ))\n",
    "model_BiLstm.add(Bidirectional(LSTM(LSTM_DIM, return_sequences=False, name='Bidrectional_lstm_layer1')))\n",
    "model_BiLstm.add(Dropout(rate=0.8, name='dropout_1')) # Can try varying dropout rates, in paper suggest 0.8\n",
    "model_BiLstm.add(Dense(4, activation='softmax', name='output_layer'))\n",
    "model_BiLstm.compile(loss='categorical_crossentropy',\n",
    "              optimizer=optimizer,\n",
    "              metrics=['accuracy'])\n",
    "print(model_BiLstm.summary())"
   ]
  },
  {
   "cell_type": "code",
   "execution_count": 49,
   "metadata": {},
   "outputs": [
    {
     "name": "stdout",
     "output_type": "stream",
     "text": [
      "Epoch 1/10\n",
      "400/400 [==============================] - 356s 890ms/step - loss: 0.6978 - accuracy: 0.7516 - val_loss: 0.5184 - val_accuracy: 0.8081\n",
      "Epoch 2/10\n",
      "400/400 [==============================] - 403s 1s/step - loss: 0.4650 - accuracy: 0.8254 - val_loss: 0.4027 - val_accuracy: 0.8477\n",
      "Epoch 3/10\n",
      "400/400 [==============================] - 438s 1s/step - loss: 0.3484 - accuracy: 0.8666 - val_loss: 0.3471 - val_accuracy: 0.8653\n",
      "Epoch 4/10\n",
      "400/400 [==============================] - 465s 1s/step - loss: 0.2752 - accuracy: 0.8953 - val_loss: 0.3026 - val_accuracy: 0.8875\n",
      "Epoch 5/10\n",
      "400/400 [==============================] - 395s 987ms/step - loss: 0.2196 - accuracy: 0.9171 - val_loss: 0.2774 - val_accuracy: 0.8982\n",
      "Epoch 6/10\n",
      "400/400 [==============================] - 381s 952ms/step - loss: 0.1729 - accuracy: 0.9355 - val_loss: 0.2616 - val_accuracy: 0.9100\n",
      "Epoch 7/10\n",
      "400/400 [==============================] - 366s 915ms/step - loss: 0.1496 - accuracy: 0.9453 - val_loss: 0.2520 - val_accuracy: 0.9138\n",
      "Epoch 8/10\n",
      "400/400 [==============================] - 369s 923ms/step - loss: 0.1199 - accuracy: 0.9578 - val_loss: 0.2502 - val_accuracy: 0.9220\n",
      "Epoch 9/10\n",
      "400/400 [==============================] - 367s 916ms/step - loss: 0.1035 - accuracy: 0.9634 - val_loss: 0.2412 - val_accuracy: 0.9249\n",
      "Epoch 10/10\n",
      "400/400 [==============================] - 366s 915ms/step - loss: 0.0819 - accuracy: 0.9712 - val_loss: 0.2526 - val_accuracy: 0.9254\n"
     ]
    }
   ],
   "source": [
    "history_Bi = model_BiLstm.fit(x=x_train,y=Y_train,batch_size=BATCH_SIZE,epochs=N_EPOCHS,verbose=1,validation_data=(x_val,Y_val))"
   ]
  },
  {
   "cell_type": "code",
   "execution_count": 50,
   "metadata": {},
   "outputs": [
    {
     "data": {
      "image/png": "[encoded data removed]",
      "text/plain": [
       "<Figure size 432x288 with 1 Axes>"
      ]
     },
     "metadata": {
      "needs_background": "light"
     },
     "output_type": "display_data"
    },
    {
     "data": {
      "image/png": "[encoded data removed]",
      "text/plain": [
       "<Figure size 432x288 with 1 Axes>"
      ]
     },
     "metadata": {
      "needs_background": "light"
     },
     "output_type": "display_data"
    }
   ],
   "source": [
    "plt.plot(history_Bi.history['accuracy'])\n",
    "plt.plot(history_Bi.history['val_accuracy'])\n",
    "\n",
    "plt.title('model accuracy')\n",
    "plt.ylabel('accuracy')\n",
    "plt.xlabel('epoch')\n",
    "plt.legend(['train','val'], loc='upper left')\n",
    "plt.show()\n",
    "\n",
    "plt.plot(history_Bi.history['loss'])\n",
    "plt.plot(history_Bi.history['val_loss'])\n",
    "\n",
    "plt.title('model loss')\n",
    "plt.ylabel('loss')\n",
    "plt.xlabel('epoch')\n",
    "plt.legend(['train','val'], loc='upper left')\n",
    "plt.show()"
   ]
  },
  {
   "cell_type": "code",
   "execution_count": 52,
   "metadata": {},
   "outputs": [
    {
     "name": "stdout",
     "output_type": "stream",
     "text": [
      "795/795 [==============================] - 118s 148ms/step - loss: 1.3564 - accuracy: 0.6490\n",
      "Weighted scores on the test set\n",
      "-------------------------------------------------------------\n",
      "|           |   agree   | disagree  |  discuss  | unrelated |\n",
      "-------------------------------------------------------------\n",
      "|   agree   |    431    |    33     |    519    |    920    |\n",
      "-------------------------------------------------------------\n",
      "| disagree  |    111    |    11     |    170    |    405    |\n",
      "-------------------------------------------------------------\n",
      "|  discuss  |    296    |    15     |   2315    |   1838    |\n",
      "-------------------------------------------------------------\n",
      "| unrelated |    940    |    28     |   3644    |   13737   |\n",
      "-------------------------------------------------------------\n",
      "Score: 6477.25 out of 11651.25\t(55.592747559274756%)\n"
     ]
    }
   ],
   "source": [
    "score = model_BiLstm.evaluate(x=X_test, y=y_actual, verbose=1)\n",
    "y_predict = model_BiLstm.predict(x=X_test)\n",
    "outputs = [np.argmax(p) for p in y_predict]\n",
    "for i in range(len(outputs)):\n",
    "    if outputs[i] == 0: outputs[i] = \"agree\"\n",
    "    if outputs[i] == 1: outputs[i] = \"disagree\"\n",
    "    if outputs[i] == 2: outputs[i] = \"discuss\"\n",
    "    if outputs[i] == 3: outputs[i] = \"unrelated\"\n",
    "print(\"Weighted scores on the test set\")\n",
    "report_score(comp.Stance.values,outputs)"
   ]
  },
  {
   "cell_type": "code",
   "execution_count": 53,
   "metadata": {},
   "outputs": [],
   "source": [
    "model_lstm.save(\"models/model_lstm.h5\")\n",
    "model_BiLstm.save(\"models/model_BiLstm.h5\")"
   ]
  }
 ],
 "metadata": {
  "kernelspec": {
   "display_name": "Python 3",
   "language": "python",
   "name": "python3"
  },
  "language_info": {
   "codemirror_mode": {
    "name": "ipython",
    "version": 3
   },
   "file_extension": ".py",
   "mimetype": "text/x-python",
   "name": "python",
   "nbconvert_exporter": "python",
   "pygments_lexer": "ipython3",
   "version": "3.7.4"
  }
 },
 "nbformat": 4,
 "nbformat_minor": 2
}
